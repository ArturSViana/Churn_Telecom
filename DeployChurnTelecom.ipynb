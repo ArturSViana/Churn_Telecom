{
  "nbformat": 4,
  "nbformat_minor": 0,
  "metadata": {
    "colab": {
      "provenance": [],
      "authorship_tag": "ABX9TyNtAM5+qeQbbN50p/GRdP7E",
      "include_colab_link": true
    },
    "kernelspec": {
      "name": "python3",
      "display_name": "Python 3"
    },
    "language_info": {
      "name": "python"
    }
  },
  "cells": [
    {
      "cell_type": "markdown",
      "metadata": {
        "id": "view-in-github",
        "colab_type": "text"
      },
      "source": [
        "<a href=\"https://colab.research.google.com/github/ArturSViana/Churn_Telecom/blob/main/DeployChurnTelecom.ipynb\" target=\"_parent\"><img src=\"https://colab.research.google.com/assets/colab-badge.svg\" alt=\"Open In Colab\"/></a>"
      ]
    },
    {
      "cell_type": "code",
      "source": [
        "# !pip install streamlit"
      ],
      "metadata": {
        "id": "kNOKQ8Kuntiq"
      },
      "execution_count": null,
      "outputs": []
    },
    {
      "cell_type": "code",
      "execution_count": null,
      "metadata": {
        "id": "30TI2IzX0xUN"
      },
      "outputs": [],
      "source": [
        "import pandas as pd\n",
        "import streamlit as st\n",
        "import joblib\n",
        "from sklearn.preprocessing import StandardScaler"
      ]
    },
    {
      "cell_type": "code",
      "source": [
        "modelo = joblib.load('modelo_lr.joblib')"
      ],
      "metadata": {
        "id": "WtfpMsvR0yV2"
      },
      "execution_count": null,
      "outputs": []
    },
    {
      "cell_type": "code",
      "source": [
        "st.title('Previsão de :red[churn] de clientes')\n",
        "st.header('Preencha as informações do cliente desejado')"
      ],
      "metadata": {
        "id": "avUQAn4JpOTj"
      },
      "execution_count": null,
      "outputs": []
    },
    {
      "cell_type": "code",
      "source": [
        "# Dados de entrada e encoding manual\n",
        "\n",
        "gender = st.selectbox(\"Gênero\", [\"Male\", \"Female\"])\n",
        "gender = 1 if gender == \"Male\" else 0\n",
        "\n",
        "senior_citizen = st.selectbox(\"É idoso?\", ['Não', 'Sim'])\n",
        "senior_citizen = 1 if senior_citizen == \"Sim\" else 0\n",
        "\n",
        "partner = st.selectbox(\"Possui sócio\", [\"Yes\", \"No\"])\n",
        "partner = 1 if partner == \"Yes\" else 0\n",
        "\n",
        "dependents = st.selectbox(\"Possui dependentes\", [\"Yes\", \"No\"])\n",
        "dependents = 1 if dependents == \"Yes\" else 0\n",
        "\n",
        "tenure = st.number_input(\"Tempo como cliente (meses)\")\n",
        "\n",
        "phone_service = st.selectbox(\"Possui serviço telefônico?\", [\"Yes\", \"No\"])\n",
        "phone_service = 1 if phone_service == \"Yes\" else 0\n",
        "\n",
        "multiple_lines = st.selectbox(\"Possui múltiplas linhas?\", [\"Yes\", \"No\", \"No phone service\"])\n",
        "if multiple_lines == \"Yes\":\n",
        "  multiple_lines = 2\n",
        "elif multiple_lines == \"No\":\n",
        "  multiple_lines = 0\n",
        "else:\n",
        "  multiple_lines = 1\n",
        "\n",
        "internet_service = st.selectbox(\"Possui serviço de internet? Qual\", [\"DSL\", \"Fiber optic\", \"No\"])\n",
        "if internet_service == \"DSL\":\n",
        "  internet_service = 0\n",
        "elif internet_service == \"Fiber optic\":\n",
        "  internet_service = 1\n",
        "else:\n",
        "  internet_service = 2\n",
        "\n",
        "online_security = st.selectbox(\"Possui plano de segurança online?\", [\"Yes\", \"No\", \"No internet service\"])\n",
        "if online_security == \"Yes\":\n",
        "  online_security = 2\n",
        "elif online_security == \"No\":\n",
        "  online_security = 0\n",
        "else:\n",
        "  online_security = 1\n",
        "\n",
        "online_backup = st.selectbox(\"Possui plano de backup online?\", [\"Yes\", \"No\", \"No internet service\"])\n",
        "if online_backup == \"Yes\":\n",
        "  online_backup = 2\n",
        "elif online_backup == \"No\":\n",
        "  online_backup = 0\n",
        "else:\n",
        "  online_backup = 1\n",
        "\n",
        "device_protection = st.selectbox(\"Possui o plano de proteção de dispositivo?\", [\"Yes\", \"No\", \"No internet service\"])\n",
        "if device_protection == \"Yes\":\n",
        "  device_protection = 2\n",
        "elif device_protection == \"No\":\n",
        "  device_protection = 0\n",
        "else:\n",
        "  device_protection = 1\n",
        "\n",
        "tech_support = st.selectbox(\"Possui suporte técnico de internet?\", [\"Yes\", \"No\", \"No internet service\"])\n",
        "if tech_support == \"Yes\":\n",
        "  tech_support = 2\n",
        "elif tech_support == \"No\":\n",
        "  tech_support = 0\n",
        "else:\n",
        "  tech_support = 1\n",
        "\n",
        "streaming_tv = st.selectbox(\"Possui Streaming TV?\", [\"Yes\", \"No\", \"No internet service\"])\n",
        "if streaming_tv == \"Yes\":\n",
        "  streaming_tv = 2\n",
        "elif streaming_tv == \"No\":\n",
        "  streaming_tv = 0\n",
        "else:\n",
        "  streaming_tv = 1\n",
        "\n",
        "streaming_movies = st.selectbox(\"Possui Streaming Movies?\", [\"Yes\", \"No\", \"No internet service\"])\n",
        "if streaming_movies == \"Yes\":\n",
        "  streaming_movies = 2\n",
        "elif streaming_movies == \"No\":\n",
        "  streaming_movies = 0\n",
        "else:\n",
        "  streaming_movies = 1\n",
        "\n",
        "contract = st.selectbox(\"Tipo de contrato\", [\"Month-to-month\", \"One year\", \"Two year\"])\n",
        "if contract == \"Month-to-month\":\n",
        "  contract = 0\n",
        "elif contract == \"One year\":\n",
        "  contract = 1\n",
        "else:\n",
        "  contract = 2\n",
        "\n",
        "paperless_billing = st.selectbox(\"Cobrança digital?\", [\"Yes\", \"No\"])\n",
        "paperless_billing = 1 if paperless_billing == \"Male\" else 0\n",
        "\n",
        "payment_method = st.selectbox(\"Método de pagamento\", [\"Electronic check\", \"Mailed check\", \"Bank transfer (automatic)\", \"Credit card (automatic)\"])\n",
        "if payment_method == \"Electronic check\":\n",
        "  payment_method = 2\n",
        "elif payment_method == \"Mailed check\":\n",
        "  payment_method = 3\n",
        "elif payment_method == \"Bank transfer (automatic)\":\n",
        "  payment_method = 0\n",
        "else:\n",
        "  payment_method = 1\n",
        "monthly_charges = st.number_input(\"Valor da mensalidade ($)\")\n",
        "total_charges = monthly_charges*tenure\n",
        "\n",
        "\n",
        "\n",
        "\n",
        "cliente = {\n",
        "    'gender': gender,\n",
        "    'SeniorCitizen': senior_citizen,\n",
        "    'Partner': partner,\n",
        "    'Dependents': dependents,\n",
        "    'tenure': tenure,\n",
        "    'PhoneService': phone_service,\n",
        "    'MultipleLines': multiple_lines,\n",
        "    'InternetService': internet_service,\n",
        "    'OnlineSecurity': online_security,\n",
        "    'OnlineBackup': online_backup,\n",
        "    'DeviceProtection': device_protection,\n",
        "    'TechSupport': tech_support,\n",
        "    'StreamingTV': streaming_tv,\n",
        "    'StreamingMovies': streaming_movies,\n",
        "    'Contract': contract,\n",
        "    'PaperlessBilling': paperless_billing,\n",
        "    'PaymentMethod': payment_method,\n",
        "    'MonthlyCharges': monthly_charges,\n",
        "    'TotalCharges': total_charges\n",
        "}\n",
        "\n",
        "# Criando o dataframe com as informações do novo cliente\n",
        "cliente_df = pd.DataFrame(cliente, index=[0])\n"
      ],
      "metadata": {
        "id": "CZ2JsVgR1bOs"
      },
      "execution_count": null,
      "outputs": []
    },
    {
      "cell_type": "code",
      "source": [
        "\n",
        "# normalizar os dados numéricos\n",
        "scaler = StandardScaler()\n",
        "numeric_cols = ['tenure', 'MonthlyCharges', 'TotalCharges']\n",
        "cliente_df[numeric_cols] = scaler.fit_transform(cliente_df[numeric_cols])\n"
      ],
      "metadata": {
        "id": "V4P_Z0l76GYa"
      },
      "execution_count": null,
      "outputs": []
    },
    {
      "cell_type": "code",
      "source": [
        "# executar a predição\n",
        "\n",
        "prediction = modelo.predict(cliente_df)\n",
        "\n",
        "if st.button('Consultar'):\n",
        "  if prediction == 0:\n",
        "      st.write(\"A probabilidade de churn é BAIXA para este cliente\")\n",
        "  else:\n",
        "      st.write(\"A probabilidade de churn é ALTA para este cliente\")"
      ],
      "metadata": {
        "id": "-Q7XO28d9i_4"
      },
      "execution_count": null,
      "outputs": []
    }
  ]
}